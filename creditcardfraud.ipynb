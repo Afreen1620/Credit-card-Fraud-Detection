{
  "nbformat": 4,
  "nbformat_minor": 0,
  "metadata": {
    "colab": {
      "provenance": []
    },
    "kernelspec": {
      "name": "python3",
      "display_name": "Python 3"
    },
    "language_info": {
      "name": "python"
    }
  },
  "cells": [
    {
      "cell_type": "code",
      "execution_count": 26,
      "metadata": {
        "id": "COcO94tOR5FM"
      },
      "outputs": [],
      "source": [
        "#Import required libraries\n",
        "#Data Management\n",
        "import pandas as pd\n",
        "import numpy as np\n",
        "from sklearn.model_selection import train_test_split, GridSearchCV\n",
        "from sklearn.preprocessing import StandardScaler, LabelEncoder\n",
        "from sklearn.linear_model import LogisticRegression\n",
        "from sklearn.svm import SVC\n",
        "from sklearn.tree import DecisionTreeClassifier\n",
        "from sklearn.ensemble import RandomForestClassifier\n",
        "from xgboost import XGBClassifier\n",
        "from sklearn.metrics import classification_report, confusion_matrix, roc_auc_score\n",
        "#Data Visualization\n",
        "import matplotlib.pyplot as plt\n",
        "import seaborn as sns"
      ]
    },
    {
      "cell_type": "code",
      "source": [
        "#read the data\n",
        "df=pd.read_csv(\"CreditcardfraudDatacsv.csv\")\n"
      ],
      "metadata": {
        "id": "sn6oVXvJSAJb"
      },
      "execution_count": 2,
      "outputs": []
    },
    {
      "cell_type": "code",
      "source": [
        "#Stats\n",
        "normal_df = df[df['is_fraud']==0]\n",
        "fraud_df = df[df['is_fraud']==1]"
      ],
      "metadata": {
        "id": "PfYGy-fhBLQD"
      },
      "execution_count": 4,
      "outputs": []
    },
    {
      "cell_type": "code",
      "source": [
        "df.info()"
      ],
      "metadata": {
        "colab": {
          "base_uri": "https://localhost:8080/"
        },
        "id": "vkmLgRzuSHim",
        "outputId": "f40697b2-edd9-4aee-c533-e46cab2b823e"
      },
      "execution_count": 5,
      "outputs": [
        {
          "output_type": "stream",
          "name": "stdout",
          "text": [
            "<class 'pandas.core.frame.DataFrame'>\n",
            "RangeIndex: 100000 entries, 0 to 99999\n",
            "Data columns (total 29 columns):\n",
            " #   Column                  Non-Null Count   Dtype  \n",
            "---  ------                  --------------   -----  \n",
            " 0   date                    100000 non-null  object \n",
            " 1   time                    100000 non-null  object \n",
            " 2   cc_num                  100000 non-null  float64\n",
            " 3   merchant                100000 non-null  object \n",
            " 4   category                100000 non-null  object \n",
            " 5   amt                     100000 non-null  float64\n",
            " 6   first                   100000 non-null  object \n",
            " 7   last                    100000 non-null  object \n",
            " 8   gender                  100000 non-null  object \n",
            " 9   street                  100000 non-null  object \n",
            " 10  city                    100000 non-null  object \n",
            " 11  state                   100000 non-null  object \n",
            " 12  zip                     100000 non-null  int64  \n",
            " 13  lat                     100000 non-null  float64\n",
            " 14  long                    100000 non-null  float64\n",
            " 15  city_pop                100000 non-null  int64  \n",
            " 16  job                     100000 non-null  object \n",
            " 17  dob                     100000 non-null  object \n",
            " 18  trans_num               100000 non-null  object \n",
            " 19  unix_time               100000 non-null  int64  \n",
            " 20  merch_lat               100000 non-null  float64\n",
            " 21  merch_long              100000 non-null  float64\n",
            " 22  is_fraud                100000 non-null  int64  \n",
            " 23  previous_fraud_history  100000 non-null  object \n",
            " 24  no_of_fraud_attempts    100000 non-null  int64  \n",
            " 25  session                 100000 non-null  object \n",
            " 26  Age                     100000 non-null  int64  \n",
            " 27  Weekday                 100000 non-null  object \n",
            " 28  Week                    100000 non-null  object \n",
            "dtypes: float64(6), int64(6), object(17)\n",
            "memory usage: 22.1+ MB\n"
          ]
        }
      ]
    },
    {
      "cell_type": "code",
      "source": [
        "print(df.columns)"
      ],
      "metadata": {
        "colab": {
          "base_uri": "https://localhost:8080/"
        },
        "id": "iZjM1RYG3-V2",
        "outputId": "5fbb8b30-e119-406d-87a2-4b047001d9c2"
      },
      "execution_count": 6,
      "outputs": [
        {
          "output_type": "stream",
          "name": "stdout",
          "text": [
            "Index(['date', 'time', 'cc_num', 'merchant', 'category', 'amt', 'first',\n",
            "       'last', 'gender', 'street', 'city', 'state', 'zip', 'lat', 'long',\n",
            "       'city_pop', 'job', 'dob', 'trans_num', 'unix_time', 'merch_lat',\n",
            "       'merch_long', 'is_fraud', 'previous_fraud_history',\n",
            "       'no_of_fraud_attempts', 'session', 'Age', 'Weekday', 'Week'],\n",
            "      dtype='object')\n"
          ]
        }
      ]
    },
    {
      "cell_type": "code",
      "source": [
        "columns_to_drop = ['first', 'last', 'street','state','dob','city_pop','zip','lat','long','date','time','merch_lat','merch_long']\n",
        "df = df.drop(columns=columns_to_drop)"
      ],
      "metadata": {
        "id": "re4gKW7RSHgJ"
      },
      "execution_count": 7,
      "outputs": []
    },
    {
      "cell_type": "code",
      "source": [
        "df.info()"
      ],
      "metadata": {
        "colab": {
          "base_uri": "https://localhost:8080/"
        },
        "id": "fMhzUnnlSHd7",
        "outputId": "a9e89116-7553-4d2e-ff30-433d136d0686"
      },
      "execution_count": 8,
      "outputs": [
        {
          "output_type": "stream",
          "name": "stdout",
          "text": [
            "<class 'pandas.core.frame.DataFrame'>\n",
            "RangeIndex: 100000 entries, 0 to 99999\n",
            "Data columns (total 16 columns):\n",
            " #   Column                  Non-Null Count   Dtype  \n",
            "---  ------                  --------------   -----  \n",
            " 0   cc_num                  100000 non-null  float64\n",
            " 1   merchant                100000 non-null  object \n",
            " 2   category                100000 non-null  object \n",
            " 3   amt                     100000 non-null  float64\n",
            " 4   gender                  100000 non-null  object \n",
            " 5   city                    100000 non-null  object \n",
            " 6   job                     100000 non-null  object \n",
            " 7   trans_num               100000 non-null  object \n",
            " 8   unix_time               100000 non-null  int64  \n",
            " 9   is_fraud                100000 non-null  int64  \n",
            " 10  previous_fraud_history  100000 non-null  object \n",
            " 11  no_of_fraud_attempts    100000 non-null  int64  \n",
            " 12  session                 100000 non-null  object \n",
            " 13  Age                     100000 non-null  int64  \n",
            " 14  Weekday                 100000 non-null  object \n",
            " 15  Week                    100000 non-null  object \n",
            "dtypes: float64(2), int64(4), object(10)\n",
            "memory usage: 12.2+ MB\n"
          ]
        }
      ]
    },
    {
      "cell_type": "code",
      "source": [
        "df['merchant'] = df['merchant'].astype('category').cat.codes.astype('int64')\n",
        "df['category'] = df['category'].astype('category').cat.codes.astype('float')\n",
        "df['gender'] = df['gender'].astype('category').cat.codes.astype('int64')\n",
        "df['city'] = df['city'].astype('category').cat.codes.astype('float')\n",
        "df['job'] = df['job'].astype('category').cat.codes.astype('float')\n",
        "df['unix_time'] = df['unix_time'].astype('category').cat.codes.astype('int64')\n",
        "\n",
        "df['session'] = df['session'].astype('category').cat.codes.astype('float')\n",
        "df['Weekday'] = df['Weekday'].astype('category').cat.codes.astype('float')\n",
        "df['Week'] = df['Week'].astype('category').cat.codes.astype('float')\n",
        "df['trans_num'] = df['trans_num'].astype('category').cat.codes.astype('float')\n",
        "df['previous_fraud_history'] = df['previous_fraud_history'].astype('category').cat.codes.astype('float')"
      ],
      "metadata": {
        "id": "tu7hT2soSHbb"
      },
      "execution_count": 9,
      "outputs": []
    },
    {
      "cell_type": "code",
      "source": [
        "df.info()"
      ],
      "metadata": {
        "colab": {
          "base_uri": "https://localhost:8080/"
        },
        "id": "1b1y9wAdSHYu",
        "outputId": "b083e57a-1f3b-4e70-ba8a-8156de473c5a"
      },
      "execution_count": 10,
      "outputs": [
        {
          "output_type": "stream",
          "name": "stdout",
          "text": [
            "<class 'pandas.core.frame.DataFrame'>\n",
            "RangeIndex: 100000 entries, 0 to 99999\n",
            "Data columns (total 16 columns):\n",
            " #   Column                  Non-Null Count   Dtype  \n",
            "---  ------                  --------------   -----  \n",
            " 0   cc_num                  100000 non-null  float64\n",
            " 1   merchant                100000 non-null  int64  \n",
            " 2   category                100000 non-null  float64\n",
            " 3   amt                     100000 non-null  float64\n",
            " 4   gender                  100000 non-null  int64  \n",
            " 5   city                    100000 non-null  float64\n",
            " 6   job                     100000 non-null  float64\n",
            " 7   trans_num               100000 non-null  float64\n",
            " 8   unix_time               100000 non-null  int64  \n",
            " 9   is_fraud                100000 non-null  int64  \n",
            " 10  previous_fraud_history  100000 non-null  float64\n",
            " 11  no_of_fraud_attempts    100000 non-null  int64  \n",
            " 12  session                 100000 non-null  float64\n",
            " 13  Age                     100000 non-null  int64  \n",
            " 14  Weekday                 100000 non-null  float64\n",
            " 15  Week                    100000 non-null  float64\n",
            "dtypes: float64(10), int64(6)\n",
            "memory usage: 12.2 MB\n"
          ]
        }
      ]
    },
    {
      "cell_type": "code",
      "source": [
        "#label Encoder\n",
        "from sklearn.preprocessing import LabelEncoder\n",
        "\n",
        "# Create a LabelEncoder object\n",
        "encoder = LabelEncoder()\n",
        "\n",
        "# Encode the specified columns\n",
        "columns_to_encode = ['category', 'merchant', 'gender', 'previous_fraud_history', 'session', 'Weekday', 'Week', 'city', 'job']\n",
        "df_encoded = df.copy()\n",
        "for col in columns_to_encode:\n",
        "    df_encoded[col] = encoder.fit_transform(df[col])\n",
        "\n",
        "# Use the encoded DataFrame for further analysis\n",
        "print(df_encoded.head())  # View the first few rows of encoded data"
      ],
      "metadata": {
        "id": "1m3dCmc8SHWW",
        "colab": {
          "base_uri": "https://localhost:8080/"
        },
        "outputId": "01a04727-59ce-484c-e4dc-ece275e2ebdf"
      },
      "execution_count": 11,
      "outputs": [
        {
          "output_type": "stream",
          "name": "stdout",
          "text": [
            "         cc_num  merchant  category     amt  gender  city  job  trans_num  \\\n",
            "0  4.930000e+15        73         4  368.78       0   136  330     6625.0   \n",
            "1  3.590000e+15       494         4  356.20       0   739  128    74027.0   \n",
            "2  4.250000e+15       329         4  333.39       1    11  379    65843.0   \n",
            "3  4.430000e+15       328         4  318.65       0   270   85    57748.0   \n",
            "4  3.560000e+15       245         8  736.28       1   667  319    89183.0   \n",
            "\n",
            "   unix_time  is_fraud  previous_fraud_history  no_of_fraud_attempts  session  \\\n",
            "0      41509         1                       1                     4        1   \n",
            "1      56407         1                       1                     1        2   \n",
            "2      25609         1                       1                     4        1   \n",
            "3      65519         1                       1                     0        1   \n",
            "4      63599         1                       1                     3        1   \n",
            "\n",
            "   Age  Weekday  Week  \n",
            "0   46        0     6  \n",
            "1   52        0     5  \n",
            "2   68        1     3  \n",
            "3   88        1     2  \n",
            "4   39        0     6  \n"
          ]
        }
      ]
    },
    {
      "cell_type": "code",
      "source": [
        "df_encoded.info()"
      ],
      "metadata": {
        "id": "dn4bE6NUSHTw",
        "colab": {
          "base_uri": "https://localhost:8080/"
        },
        "outputId": "ab5f18a2-c55c-4919-b3f2-4cf31606c39d"
      },
      "execution_count": 12,
      "outputs": [
        {
          "output_type": "stream",
          "name": "stdout",
          "text": [
            "<class 'pandas.core.frame.DataFrame'>\n",
            "RangeIndex: 100000 entries, 0 to 99999\n",
            "Data columns (total 16 columns):\n",
            " #   Column                  Non-Null Count   Dtype  \n",
            "---  ------                  --------------   -----  \n",
            " 0   cc_num                  100000 non-null  float64\n",
            " 1   merchant                100000 non-null  int64  \n",
            " 2   category                100000 non-null  int64  \n",
            " 3   amt                     100000 non-null  float64\n",
            " 4   gender                  100000 non-null  int64  \n",
            " 5   city                    100000 non-null  int64  \n",
            " 6   job                     100000 non-null  int64  \n",
            " 7   trans_num               100000 non-null  float64\n",
            " 8   unix_time               100000 non-null  int64  \n",
            " 9   is_fraud                100000 non-null  int64  \n",
            " 10  previous_fraud_history  100000 non-null  int64  \n",
            " 11  no_of_fraud_attempts    100000 non-null  int64  \n",
            " 12  session                 100000 non-null  int64  \n",
            " 13  Age                     100000 non-null  int64  \n",
            " 14  Weekday                 100000 non-null  int64  \n",
            " 15  Week                    100000 non-null  int64  \n",
            "dtypes: float64(3), int64(13)\n",
            "memory usage: 12.2 MB\n"
          ]
        }
      ]
    },
    {
      "cell_type": "code",
      "source": [
        "# Print the shape of the data\n",
        "# data = data.sample(frac = 0.1, random_state = 48)\n",
        "print(df.shape)\n",
        "print(df.describe())"
      ],
      "metadata": {
        "colab": {
          "base_uri": "https://localhost:8080/"
        },
        "id": "AvSx_CMnSHRN",
        "outputId": "eb7ecca2-207e-4783-ae91-3ac2c6d42776"
      },
      "execution_count": 13,
      "outputs": [
        {
          "output_type": "stream",
          "name": "stdout",
          "text": [
            "(100000, 16)\n",
            "             cc_num      merchant       category            amt  \\\n",
            "count  1.000000e+05  100000.00000  100000.000000  100000.000000   \n",
            "mean   4.103267e+17     342.51085       6.222920      69.535162   \n",
            "std    1.298763e+18     200.95441       3.910762     151.161460   \n",
            "min    6.041621e+10       0.00000       0.000000       1.000000   \n",
            "25%    1.800000e+14     165.00000       3.000000       9.690000   \n",
            "50%    3.520000e+15     345.00000       6.000000      47.380000   \n",
            "75%    4.640000e+15     513.00000      10.000000      82.990000   \n",
            "max    4.990000e+18     692.00000      13.000000   17897.240000   \n",
            "\n",
            "              gender           city            job      trans_num  \\\n",
            "count  100000.000000  100000.000000  100000.000000  100000.000000   \n",
            "mean        0.453740     431.289850     245.462020   49990.931890   \n",
            "std         0.497858     249.697613     137.644963   28862.836264   \n",
            "min         0.000000       0.000000       0.000000       0.000000   \n",
            "25%         0.000000     217.000000     127.000000   24995.750000   \n",
            "50%         0.000000     425.000000     243.000000   49989.500000   \n",
            "75%         1.000000     652.000000     368.000000   74987.250000   \n",
            "max         1.000000     864.000000     483.000000   99983.000000   \n",
            "\n",
            "           unix_time       is_fraud  previous_fraud_history  \\\n",
            "count  100000.000000  100000.000000           100000.000000   \n",
            "mean    49948.832000       0.005210                0.072450   \n",
            "std     28838.201587       0.071992                0.259233   \n",
            "min         0.000000       0.000000                0.000000   \n",
            "25%     24972.750000       0.000000                0.000000   \n",
            "50%     49951.500000       0.000000                0.000000   \n",
            "75%     74921.250000       0.000000                0.000000   \n",
            "max     99892.000000       1.000000                1.000000   \n",
            "\n",
            "       no_of_fraud_attempts        session            Age        Weekday  \\\n",
            "count         100000.000000  100000.000000  100000.000000  100000.000000   \n",
            "mean               0.106050       1.111660      50.072720       0.326930   \n",
            "std                0.462845       0.841641      17.411093       0.469094   \n",
            "min                0.000000       0.000000      19.000000       0.000000   \n",
            "25%                0.000000       0.000000      37.000000       0.000000   \n",
            "50%                0.000000       1.000000      48.000000       0.000000   \n",
            "75%                0.000000       2.000000      61.000000       1.000000   \n",
            "max                5.000000       2.000000      99.000000       1.000000   \n",
            "\n",
            "                Week  \n",
            "count  100000.000000  \n",
            "mean        2.812880  \n",
            "std         1.885243  \n",
            "min         0.000000  \n",
            "25%         1.000000  \n",
            "50%         3.000000  \n",
            "75%         4.000000  \n",
            "max         6.000000  \n"
          ]
        }
      ]
    },
    {
      "cell_type": "code",
      "source": [
        "df_missing_columns = (round(((df.isnull().sum()/len(df.index))*100),2).to_frame('null')).sort_values('null', ascending=False)\n",
        "df_missing_columns"
      ],
      "metadata": {
        "colab": {
          "base_uri": "https://localhost:8080/",
          "height": 551
        },
        "id": "5mFVgYv9SHPi",
        "outputId": "65c6052c-d90c-4d0c-8e25-52412664cc39"
      },
      "execution_count": 14,
      "outputs": [
        {
          "output_type": "execute_result",
          "data": {
            "text/plain": [
              "                        null\n",
              "cc_num                   0.0\n",
              "merchant                 0.0\n",
              "category                 0.0\n",
              "amt                      0.0\n",
              "gender                   0.0\n",
              "city                     0.0\n",
              "job                      0.0\n",
              "trans_num                0.0\n",
              "unix_time                0.0\n",
              "is_fraud                 0.0\n",
              "previous_fraud_history   0.0\n",
              "no_of_fraud_attempts     0.0\n",
              "session                  0.0\n",
              "Age                      0.0\n",
              "Weekday                  0.0\n",
              "Week                     0.0"
            ],
            "text/html": [
              "\n",
              "  <div id=\"df-7d5f7221-931c-4314-8a29-8285acd64235\" class=\"colab-df-container\">\n",
              "    <div>\n",
              "<style scoped>\n",
              "    .dataframe tbody tr th:only-of-type {\n",
              "        vertical-align: middle;\n",
              "    }\n",
              "\n",
              "    .dataframe tbody tr th {\n",
              "        vertical-align: top;\n",
              "    }\n",
              "\n",
              "    .dataframe thead th {\n",
              "        text-align: right;\n",
              "    }\n",
              "</style>\n",
              "<table border=\"1\" class=\"dataframe\">\n",
              "  <thead>\n",
              "    <tr style=\"text-align: right;\">\n",
              "      <th></th>\n",
              "      <th>null</th>\n",
              "    </tr>\n",
              "  </thead>\n",
              "  <tbody>\n",
              "    <tr>\n",
              "      <th>cc_num</th>\n",
              "      <td>0.0</td>\n",
              "    </tr>\n",
              "    <tr>\n",
              "      <th>merchant</th>\n",
              "      <td>0.0</td>\n",
              "    </tr>\n",
              "    <tr>\n",
              "      <th>category</th>\n",
              "      <td>0.0</td>\n",
              "    </tr>\n",
              "    <tr>\n",
              "      <th>amt</th>\n",
              "      <td>0.0</td>\n",
              "    </tr>\n",
              "    <tr>\n",
              "      <th>gender</th>\n",
              "      <td>0.0</td>\n",
              "    </tr>\n",
              "    <tr>\n",
              "      <th>city</th>\n",
              "      <td>0.0</td>\n",
              "    </tr>\n",
              "    <tr>\n",
              "      <th>job</th>\n",
              "      <td>0.0</td>\n",
              "    </tr>\n",
              "    <tr>\n",
              "      <th>trans_num</th>\n",
              "      <td>0.0</td>\n",
              "    </tr>\n",
              "    <tr>\n",
              "      <th>unix_time</th>\n",
              "      <td>0.0</td>\n",
              "    </tr>\n",
              "    <tr>\n",
              "      <th>is_fraud</th>\n",
              "      <td>0.0</td>\n",
              "    </tr>\n",
              "    <tr>\n",
              "      <th>previous_fraud_history</th>\n",
              "      <td>0.0</td>\n",
              "    </tr>\n",
              "    <tr>\n",
              "      <th>no_of_fraud_attempts</th>\n",
              "      <td>0.0</td>\n",
              "    </tr>\n",
              "    <tr>\n",
              "      <th>session</th>\n",
              "      <td>0.0</td>\n",
              "    </tr>\n",
              "    <tr>\n",
              "      <th>Age</th>\n",
              "      <td>0.0</td>\n",
              "    </tr>\n",
              "    <tr>\n",
              "      <th>Weekday</th>\n",
              "      <td>0.0</td>\n",
              "    </tr>\n",
              "    <tr>\n",
              "      <th>Week</th>\n",
              "      <td>0.0</td>\n",
              "    </tr>\n",
              "  </tbody>\n",
              "</table>\n",
              "</div>\n",
              "    <div class=\"colab-df-buttons\">\n",
              "\n",
              "  <div class=\"colab-df-container\">\n",
              "    <button class=\"colab-df-convert\" onclick=\"convertToInteractive('df-7d5f7221-931c-4314-8a29-8285acd64235')\"\n",
              "            title=\"Convert this dataframe to an interactive table.\"\n",
              "            style=\"display:none;\">\n",
              "\n",
              "  <svg xmlns=\"http://www.w3.org/2000/svg\" height=\"24px\" viewBox=\"0 -960 960 960\">\n",
              "    <path d=\"M120-120v-720h720v720H120Zm60-500h600v-160H180v160Zm220 220h160v-160H400v160Zm0 220h160v-160H400v160ZM180-400h160v-160H180v160Zm440 0h160v-160H620v160ZM180-180h160v-160H180v160Zm440 0h160v-160H620v160Z\"/>\n",
              "  </svg>\n",
              "    </button>\n",
              "\n",
              "  <style>\n",
              "    .colab-df-container {\n",
              "      display:flex;\n",
              "      gap: 12px;\n",
              "    }\n",
              "\n",
              "    .colab-df-convert {\n",
              "      background-color: #E8F0FE;\n",
              "      border: none;\n",
              "      border-radius: 50%;\n",
              "      cursor: pointer;\n",
              "      display: none;\n",
              "      fill: #1967D2;\n",
              "      height: 32px;\n",
              "      padding: 0 0 0 0;\n",
              "      width: 32px;\n",
              "    }\n",
              "\n",
              "    .colab-df-convert:hover {\n",
              "      background-color: #E2EBFA;\n",
              "      box-shadow: 0px 1px 2px rgba(60, 64, 67, 0.3), 0px 1px 3px 1px rgba(60, 64, 67, 0.15);\n",
              "      fill: #174EA6;\n",
              "    }\n",
              "\n",
              "    .colab-df-buttons div {\n",
              "      margin-bottom: 4px;\n",
              "    }\n",
              "\n",
              "    [theme=dark] .colab-df-convert {\n",
              "      background-color: #3B4455;\n",
              "      fill: #D2E3FC;\n",
              "    }\n",
              "\n",
              "    [theme=dark] .colab-df-convert:hover {\n",
              "      background-color: #434B5C;\n",
              "      box-shadow: 0px 1px 3px 1px rgba(0, 0, 0, 0.15);\n",
              "      filter: drop-shadow(0px 1px 2px rgba(0, 0, 0, 0.3));\n",
              "      fill: #FFFFFF;\n",
              "    }\n",
              "  </style>\n",
              "\n",
              "    <script>\n",
              "      const buttonEl =\n",
              "        document.querySelector('#df-7d5f7221-931c-4314-8a29-8285acd64235 button.colab-df-convert');\n",
              "      buttonEl.style.display =\n",
              "        google.colab.kernel.accessAllowed ? 'block' : 'none';\n",
              "\n",
              "      async function convertToInteractive(key) {\n",
              "        const element = document.querySelector('#df-7d5f7221-931c-4314-8a29-8285acd64235');\n",
              "        const dataTable =\n",
              "          await google.colab.kernel.invokeFunction('convertToInteractive',\n",
              "                                                    [key], {});\n",
              "        if (!dataTable) return;\n",
              "\n",
              "        const docLinkHtml = 'Like what you see? Visit the ' +\n",
              "          '<a target=\"_blank\" href=https://colab.research.google.com/notebooks/data_table.ipynb>data table notebook</a>'\n",
              "          + ' to learn more about interactive tables.';\n",
              "        element.innerHTML = '';\n",
              "        dataTable['output_type'] = 'display_data';\n",
              "        await google.colab.output.renderOutput(dataTable, element);\n",
              "        const docLink = document.createElement('div');\n",
              "        docLink.innerHTML = docLinkHtml;\n",
              "        element.appendChild(docLink);\n",
              "      }\n",
              "    </script>\n",
              "  </div>\n",
              "\n",
              "\n",
              "<div id=\"df-5325f039-161d-443b-b738-0d3ae9d7d99c\">\n",
              "  <button class=\"colab-df-quickchart\" onclick=\"quickchart('df-5325f039-161d-443b-b738-0d3ae9d7d99c')\"\n",
              "            title=\"Suggest charts\"\n",
              "            style=\"display:none;\">\n",
              "\n",
              "<svg xmlns=\"http://www.w3.org/2000/svg\" height=\"24px\"viewBox=\"0 0 24 24\"\n",
              "     width=\"24px\">\n",
              "    <g>\n",
              "        <path d=\"M19 3H5c-1.1 0-2 .9-2 2v14c0 1.1.9 2 2 2h14c1.1 0 2-.9 2-2V5c0-1.1-.9-2-2-2zM9 17H7v-7h2v7zm4 0h-2V7h2v10zm4 0h-2v-4h2v4z\"/>\n",
              "    </g>\n",
              "</svg>\n",
              "  </button>\n",
              "\n",
              "<style>\n",
              "  .colab-df-quickchart {\n",
              "      --bg-color: #E8F0FE;\n",
              "      --fill-color: #1967D2;\n",
              "      --hover-bg-color: #E2EBFA;\n",
              "      --hover-fill-color: #174EA6;\n",
              "      --disabled-fill-color: #AAA;\n",
              "      --disabled-bg-color: #DDD;\n",
              "  }\n",
              "\n",
              "  [theme=dark] .colab-df-quickchart {\n",
              "      --bg-color: #3B4455;\n",
              "      --fill-color: #D2E3FC;\n",
              "      --hover-bg-color: #434B5C;\n",
              "      --hover-fill-color: #FFFFFF;\n",
              "      --disabled-bg-color: #3B4455;\n",
              "      --disabled-fill-color: #666;\n",
              "  }\n",
              "\n",
              "  .colab-df-quickchart {\n",
              "    background-color: var(--bg-color);\n",
              "    border: none;\n",
              "    border-radius: 50%;\n",
              "    cursor: pointer;\n",
              "    display: none;\n",
              "    fill: var(--fill-color);\n",
              "    height: 32px;\n",
              "    padding: 0;\n",
              "    width: 32px;\n",
              "  }\n",
              "\n",
              "  .colab-df-quickchart:hover {\n",
              "    background-color: var(--hover-bg-color);\n",
              "    box-shadow: 0 1px 2px rgba(60, 64, 67, 0.3), 0 1px 3px 1px rgba(60, 64, 67, 0.15);\n",
              "    fill: var(--button-hover-fill-color);\n",
              "  }\n",
              "\n",
              "  .colab-df-quickchart-complete:disabled,\n",
              "  .colab-df-quickchart-complete:disabled:hover {\n",
              "    background-color: var(--disabled-bg-color);\n",
              "    fill: var(--disabled-fill-color);\n",
              "    box-shadow: none;\n",
              "  }\n",
              "\n",
              "  .colab-df-spinner {\n",
              "    border: 2px solid var(--fill-color);\n",
              "    border-color: transparent;\n",
              "    border-bottom-color: var(--fill-color);\n",
              "    animation:\n",
              "      spin 1s steps(1) infinite;\n",
              "  }\n",
              "\n",
              "  @keyframes spin {\n",
              "    0% {\n",
              "      border-color: transparent;\n",
              "      border-bottom-color: var(--fill-color);\n",
              "      border-left-color: var(--fill-color);\n",
              "    }\n",
              "    20% {\n",
              "      border-color: transparent;\n",
              "      border-left-color: var(--fill-color);\n",
              "      border-top-color: var(--fill-color);\n",
              "    }\n",
              "    30% {\n",
              "      border-color: transparent;\n",
              "      border-left-color: var(--fill-color);\n",
              "      border-top-color: var(--fill-color);\n",
              "      border-right-color: var(--fill-color);\n",
              "    }\n",
              "    40% {\n",
              "      border-color: transparent;\n",
              "      border-right-color: var(--fill-color);\n",
              "      border-top-color: var(--fill-color);\n",
              "    }\n",
              "    60% {\n",
              "      border-color: transparent;\n",
              "      border-right-color: var(--fill-color);\n",
              "    }\n",
              "    80% {\n",
              "      border-color: transparent;\n",
              "      border-right-color: var(--fill-color);\n",
              "      border-bottom-color: var(--fill-color);\n",
              "    }\n",
              "    90% {\n",
              "      border-color: transparent;\n",
              "      border-bottom-color: var(--fill-color);\n",
              "    }\n",
              "  }\n",
              "</style>\n",
              "\n",
              "  <script>\n",
              "    async function quickchart(key) {\n",
              "      const quickchartButtonEl =\n",
              "        document.querySelector('#' + key + ' button');\n",
              "      quickchartButtonEl.disabled = true;  // To prevent multiple clicks.\n",
              "      quickchartButtonEl.classList.add('colab-df-spinner');\n",
              "      try {\n",
              "        const charts = await google.colab.kernel.invokeFunction(\n",
              "            'suggestCharts', [key], {});\n",
              "      } catch (error) {\n",
              "        console.error('Error during call to suggestCharts:', error);\n",
              "      }\n",
              "      quickchartButtonEl.classList.remove('colab-df-spinner');\n",
              "      quickchartButtonEl.classList.add('colab-df-quickchart-complete');\n",
              "    }\n",
              "    (() => {\n",
              "      let quickchartButtonEl =\n",
              "        document.querySelector('#df-5325f039-161d-443b-b738-0d3ae9d7d99c button');\n",
              "      quickchartButtonEl.style.display =\n",
              "        google.colab.kernel.accessAllowed ? 'block' : 'none';\n",
              "    })();\n",
              "  </script>\n",
              "</div>\n",
              "\n",
              "  <div id=\"id_f7e125ef-c853-40a0-86fc-fb1f1724f3b6\">\n",
              "    <style>\n",
              "      .colab-df-generate {\n",
              "        background-color: #E8F0FE;\n",
              "        border: none;\n",
              "        border-radius: 50%;\n",
              "        cursor: pointer;\n",
              "        display: none;\n",
              "        fill: #1967D2;\n",
              "        height: 32px;\n",
              "        padding: 0 0 0 0;\n",
              "        width: 32px;\n",
              "      }\n",
              "\n",
              "      .colab-df-generate:hover {\n",
              "        background-color: #E2EBFA;\n",
              "        box-shadow: 0px 1px 2px rgba(60, 64, 67, 0.3), 0px 1px 3px 1px rgba(60, 64, 67, 0.15);\n",
              "        fill: #174EA6;\n",
              "      }\n",
              "\n",
              "      [theme=dark] .colab-df-generate {\n",
              "        background-color: #3B4455;\n",
              "        fill: #D2E3FC;\n",
              "      }\n",
              "\n",
              "      [theme=dark] .colab-df-generate:hover {\n",
              "        background-color: #434B5C;\n",
              "        box-shadow: 0px 1px 3px 1px rgba(0, 0, 0, 0.15);\n",
              "        filter: drop-shadow(0px 1px 2px rgba(0, 0, 0, 0.3));\n",
              "        fill: #FFFFFF;\n",
              "      }\n",
              "    </style>\n",
              "    <button class=\"colab-df-generate\" onclick=\"generateWithVariable('df_missing_columns')\"\n",
              "            title=\"Generate code using this dataframe.\"\n",
              "            style=\"display:none;\">\n",
              "\n",
              "  <svg xmlns=\"http://www.w3.org/2000/svg\" height=\"24px\"viewBox=\"0 0 24 24\"\n",
              "       width=\"24px\">\n",
              "    <path d=\"M7,19H8.4L18.45,9,17,7.55,7,17.6ZM5,21V16.75L18.45,3.32a2,2,0,0,1,2.83,0l1.4,1.43a1.91,1.91,0,0,1,.58,1.4,1.91,1.91,0,0,1-.58,1.4L9.25,21ZM18.45,9,17,7.55Zm-12,3A5.31,5.31,0,0,0,4.9,8.1,5.31,5.31,0,0,0,1,6.5,5.31,5.31,0,0,0,4.9,4.9,5.31,5.31,0,0,0,6.5,1,5.31,5.31,0,0,0,8.1,4.9,5.31,5.31,0,0,0,12,6.5,5.46,5.46,0,0,0,6.5,12Z\"/>\n",
              "  </svg>\n",
              "    </button>\n",
              "    <script>\n",
              "      (() => {\n",
              "      const buttonEl =\n",
              "        document.querySelector('#id_f7e125ef-c853-40a0-86fc-fb1f1724f3b6 button.colab-df-generate');\n",
              "      buttonEl.style.display =\n",
              "        google.colab.kernel.accessAllowed ? 'block' : 'none';\n",
              "\n",
              "      buttonEl.onclick = () => {\n",
              "        google.colab.notebook.generateWithVariable('df_missing_columns');\n",
              "      }\n",
              "      })();\n",
              "    </script>\n",
              "  </div>\n",
              "\n",
              "    </div>\n",
              "  </div>\n"
            ],
            "application/vnd.google.colaboratory.intrinsic+json": {
              "type": "dataframe",
              "variable_name": "df_missing_columns",
              "summary": "{\n  \"name\": \"df_missing_columns\",\n  \"rows\": 16,\n  \"fields\": [\n    {\n      \"column\": \"null\",\n      \"properties\": {\n        \"dtype\": \"number\",\n        \"std\": 0.0,\n        \"min\": 0.0,\n        \"max\": 0.0,\n        \"num_unique_values\": 1,\n        \"samples\": [\n          0.0\n        ],\n        \"semantic_type\": \"\",\n        \"description\": \"\"\n      }\n    }\n  ]\n}"
            }
          },
          "metadata": {},
          "execution_count": 14
        }
      ]
    },
    {
      "cell_type": "code",
      "source": [
        "classes = df['is_fraud'].value_counts()\n",
        "classes"
      ],
      "metadata": {
        "colab": {
          "base_uri": "https://localhost:8080/",
          "height": 178
        },
        "id": "9gsq9wp3S1gt",
        "outputId": "9c653589-2b6d-414a-d138-0b8bf387b3c9"
      },
      "execution_count": 15,
      "outputs": [
        {
          "output_type": "execute_result",
          "data": {
            "text/plain": [
              "is_fraud\n",
              "0    99479\n",
              "1      521\n",
              "Name: count, dtype: int64"
            ],
            "text/html": [
              "<div>\n",
              "<style scoped>\n",
              "    .dataframe tbody tr th:only-of-type {\n",
              "        vertical-align: middle;\n",
              "    }\n",
              "\n",
              "    .dataframe tbody tr th {\n",
              "        vertical-align: top;\n",
              "    }\n",
              "\n",
              "    .dataframe thead th {\n",
              "        text-align: right;\n",
              "    }\n",
              "</style>\n",
              "<table border=\"1\" class=\"dataframe\">\n",
              "  <thead>\n",
              "    <tr style=\"text-align: right;\">\n",
              "      <th></th>\n",
              "      <th>count</th>\n",
              "    </tr>\n",
              "    <tr>\n",
              "      <th>is_fraud</th>\n",
              "      <th></th>\n",
              "    </tr>\n",
              "  </thead>\n",
              "  <tbody>\n",
              "    <tr>\n",
              "      <th>0</th>\n",
              "      <td>99479</td>\n",
              "    </tr>\n",
              "    <tr>\n",
              "      <th>1</th>\n",
              "      <td>521</td>\n",
              "    </tr>\n",
              "  </tbody>\n",
              "</table>\n",
              "</div><br><label><b>dtype:</b> int64</label>"
            ]
          },
          "metadata": {},
          "execution_count": 15
        }
      ]
    },
    {
      "cell_type": "code",
      "source": [
        "normal_share = round((classes[0]/df['is_fraud'].count()*100),2)\n",
        "normal_share"
      ],
      "metadata": {
        "colab": {
          "base_uri": "https://localhost:8080/"
        },
        "id": "4TbqPP2ETVUG",
        "outputId": "cbe8fd6a-93ca-4198-bd61-515f027b77b1"
      },
      "execution_count": 16,
      "outputs": [
        {
          "output_type": "execute_result",
          "data": {
            "text/plain": [
              "99.48"
            ]
          },
          "metadata": {},
          "execution_count": 16
        }
      ]
    },
    {
      "cell_type": "code",
      "source": [
        "fraud_share = round((classes[1]/df['is_fraud'].count()*100),2)\n",
        "fraud_share"
      ],
      "metadata": {
        "colab": {
          "base_uri": "https://localhost:8080/"
        },
        "id": "B5ssWnLwTnKw",
        "outputId": "fa061306-8418-4274-c040-9b8cec5f8c4f"
      },
      "execution_count": 17,
      "outputs": [
        {
          "output_type": "execute_result",
          "data": {
            "text/plain": [
              "0.52"
            ]
          },
          "metadata": {},
          "execution_count": 17
        }
      ]
    },
    {
      "cell_type": "code",
      "source": [
        "#df.is_fraud.value_counts().plot(kind='bar')\n",
        "# Bar plot for the percentage of fraudulent vs non-fraudulent transcations\n",
        "fraud_percentage = {'Class':['Non-Fraudulent', 'Fraudulent'], 'Percentage':[normal_share, fraud_share]}\n",
        "df_fraud_percentage = pd.DataFrame(fraud_percentage)\n",
        "sns.barplot(x='Class',y='Percentage', data=df_fraud_percentage)\n",
        "plt.title('Percentage of fraudulent vs non-fraudulent transcations')\n",
        "plt.show()"
      ],
      "metadata": {
        "colab": {
          "base_uri": "https://localhost:8080/",
          "height": 472
        },
        "id": "vnf_5ewcT6aQ",
        "outputId": "e01856b7-c37b-4710-bd9b-b607804c2ac4"
      },
      "execution_count": 18,
      "outputs": [
        {
          "output_type": "display_data",
          "data": {
            "text/plain": [
              "<Figure size 640x480 with 1 Axes>"
            ],
            "image/png": "[encoded data removed]"
          },
          "metadata": {}
        }
      ]
    },
    {
      "cell_type": "code",
      "source": [
        "# Creating fraudulent dataframe\n",
        "data_fraud = df[df['is_fraud'] == 1]\n",
        "# Creating non fraudulent dataframe\n",
        "data_non_fraud = df[df['is_fraud'] == 0]"
      ],
      "metadata": {
        "id": "JQp8EBwbUAjp"
      },
      "execution_count": 19,
      "outputs": []
    },
    {
      "cell_type": "code",
      "source": [
        "import warnings\n",
        "warnings.filterwarnings('ignore')"
      ],
      "metadata": {
        "id": "xxdlw2WiUa_6"
      },
      "execution_count": 20,
      "outputs": []
    },
    {
      "cell_type": "code",
      "source": [
        "# Distribution plot\n",
        "plt.figure(figsize=(8,5))\n",
        "ax = sns.distplot(data_fraud['unix_time'],label='fraudulent',hist=False)\n",
        "ax = sns.distplot(data_non_fraud['unix_time'],label='non fraudulent',hist=False)\n",
        "ax.set(xlabel='Seconds elapsed between the transction and the first transction')\n",
        "ax.legend(loc='upper right')\n",
        "plt.show()"
      ],
      "metadata": {
        "colab": {
          "base_uri": "https://localhost:8080/",
          "height": 480
        },
        "id": "1jEP_2kRUuQZ",
        "outputId": "571e19a2-6be0-4923-ec63-4a9376a35cbc"
      },
      "execution_count": 21,
      "outputs": [
        {
          "output_type": "display_data",
          "data": {
            "text/plain": [
              "<Figure size 800x500 with 1 Axes>"
            ],
            "image/png": "[encoded data removed]"
          },
          "metadata": {}
        }
      ]
    },
    {
      "cell_type": "code",
      "source": [
        "# Distribution plot\n",
        "plt.figure(figsize=(8,5))\n",
        "ax = sns.distplot(data_fraud['amt'],label='fraudulent',hist=False)\n",
        "ax = sns.distplot(data_non_fraud['unix_time'],label='non fraudulent',hist=False)\n",
        "ax.set(xlabel='Transction Amount')\n",
        "ax.legend(loc='upper right')\n",
        "plt.show()"
      ],
      "metadata": {
        "colab": {
          "base_uri": "https://localhost:8080/",
          "height": 465
        },
        "id": "9L1mFVe2Uwjb",
        "outputId": "c5b1575d-9494-483d-9911-ca5f159cb08c"
      },
      "execution_count": 22,
      "outputs": [
        {
          "output_type": "display_data",
          "data": {
            "text/plain": [
              "<Figure size 800x500 with 1 Axes>"
            ],
            "image/png": "[encoded data removed]"
          },
          "metadata": {}
        }
      ]
    },
    {
      "cell_type": "markdown",
      "source": [
        "**Plotting the Correlation Matrix**"
      ],
      "metadata": {
        "id": "ijOaLFxCXars"
      }
    },
    {
      "cell_type": "code",
      "source": [
        "# Correlation matrix\n",
        "import seaborn as sns\n",
        "import matplotlib.pyplot as plt\n",
        "corrmat = df.corr()\n",
        "fig = plt.figure(figsize = (20, 20))\n",
        "sns.heatmap(corrmat, vmax = .8, square = True)\n",
        "plt.show()"
      ],
      "metadata": {
        "colab": {
          "base_uri": "https://localhost:8080/",
          "height": 1000
        },
        "id": "bqnOScpSXUFK",
        "outputId": "d99f3df0-3e21-4aa0-8515-e2b275acf663"
      },
      "execution_count": 24,
      "outputs": [
        {
          "output_type": "display_data",
          "data": {
            "text/plain": [
              "<Figure size 2000x2000 with 2 Axes>"
            ],
            "image/png": "[encoded data removed]"
          },
          "metadata": {}
        }
      ]
    },
    {
      "cell_type": "code",
      "source": [
        "# Define features (X) and target (y)\n",
        "X = df.drop('is_fraud', axis=1)\n",
        "y = df['is_fraud']"
      ],
      "metadata": {
        "id": "l3OUd5E-qVfl"
      },
      "execution_count": 29,
      "outputs": []
    },
    {
      "cell_type": "code",
      "source": [
        "# Split the data into train and test set\n",
        "X_train, X_test, y_train, y_test = train_test_split(X, y, test_size=0.3, random_state=42, stratify=y)"
      ],
      "metadata": {
        "id": "cL9E4rRBobAg"
      },
      "execution_count": 30,
      "outputs": []
    },
    {
      "cell_type": "code",
      "source": [
        "# Scale the data\n",
        "scaler = StandardScaler()\n",
        "X_train_scaled = scaler.fit_transform(X_train)\n",
        "X_test_scaled = scaler.transform(X_test)\n"
      ],
      "metadata": {
        "id": "KVtVtfQ-qGkz"
      },
      "execution_count": 31,
      "outputs": []
    },
    {
      "cell_type": "code",
      "source": [
        "# Model building\n",
        "models = {\n",
        "    \"Logistic Regression\": LogisticRegression(),\n",
        "    \"Support Vector Machine\": SVC(probability=True),\n",
        "    \"Decision Tree\": DecisionTreeClassifier(),\n",
        "    \"Random Forest\": RandomForestClassifier(),\n",
        "    \"XGBoost\": XGBClassifier(),\n",
        "}"
      ],
      "metadata": {
        "id": "WR6MSyuUqehH"
      },
      "execution_count": 32,
      "outputs": []
    },
    {
      "cell_type": "code",
      "source": [
        "# Train models and evaluate\n",
        "for name, model in models.items():\n",
        "    model.fit(X_train_scaled, y_train)\n",
        "    y_pred = model.predict(X_test_scaled)\n",
        "    print(f\"Model: {name}\")\n",
        "    print(\"Confusion Matrix:\")\n",
        "    print(confusion_matrix(y_test, y_pred))\n",
        "    print(\"Classification Report:\")\n",
        "    print(classification_report(y_test, y_pred))\n",
        "    print(f\"ROC AUC Score: {roc_auc_score(y_test, model.predict_proba(X_test_scaled)[:, 1])}\")\n",
        "    print(\"\")"
      ],
      "metadata": {
        "colab": {
          "base_uri": "https://localhost:8080/"
        },
        "id": "OFrDhB4Aqf2x",
        "outputId": "3b3dc40b-818d-4cfb-8d5f-0cef0159e615"
      },
      "execution_count": 33,
      "outputs": [
        {
          "output_type": "stream",
          "name": "stdout",
          "text": [
            "Model: Logistic Regression\n",
            "Confusion Matrix:\n",
            "[[29841     3]\n",
            " [   85    71]]\n",
            "Classification Report:\n",
            "              precision    recall  f1-score   support\n",
            "\n",
            "           0       1.00      1.00      1.00     29844\n",
            "           1       0.96      0.46      0.62       156\n",
            "\n",
            "    accuracy                           1.00     30000\n",
            "   macro avg       0.98      0.73      0.81     30000\n",
            "weighted avg       1.00      1.00      1.00     30000\n",
            "\n",
            "ROC AUC Score: 0.9638625124149853\n",
            "\n",
            "Model: Support Vector Machine\n",
            "Confusion Matrix:\n",
            "[[29835     9]\n",
            " [   55   101]]\n",
            "Classification Report:\n",
            "              precision    recall  f1-score   support\n",
            "\n",
            "           0       1.00      1.00      1.00     29844\n",
            "           1       0.92      0.65      0.76       156\n",
            "\n",
            "    accuracy                           1.00     30000\n",
            "   macro avg       0.96      0.82      0.88     30000\n",
            "weighted avg       1.00      1.00      1.00     30000\n",
            "\n",
            "ROC AUC Score: 0.9193107578210112\n",
            "\n",
            "Model: Decision Tree\n",
            "Confusion Matrix:\n",
            "[[29809    35]\n",
            " [   27   129]]\n",
            "Classification Report:\n",
            "              precision    recall  f1-score   support\n",
            "\n",
            "           0       1.00      1.00      1.00     29844\n",
            "           1       0.79      0.83      0.81       156\n",
            "\n",
            "    accuracy                           1.00     30000\n",
            "   macro avg       0.89      0.91      0.90     30000\n",
            "weighted avg       1.00      1.00      1.00     30000\n",
            "\n",
            "ROC AUC Score: 0.9128751559390884\n",
            "\n",
            "Model: Random Forest\n",
            "Confusion Matrix:\n",
            "[[29836     8]\n",
            " [   44   112]]\n",
            "Classification Report:\n",
            "              precision    recall  f1-score   support\n",
            "\n",
            "           0       1.00      1.00      1.00     29844\n",
            "           1       0.93      0.72      0.81       156\n",
            "\n",
            "    accuracy                           1.00     30000\n",
            "   macro avg       0.97      0.86      0.91     30000\n",
            "weighted avg       1.00      1.00      1.00     30000\n",
            "\n",
            "ROC AUC Score: 0.9815521480931614\n",
            "\n",
            "Model: XGBoost\n",
            "Confusion Matrix:\n",
            "[[29828    16]\n",
            " [   27   129]]\n",
            "Classification Report:\n",
            "              precision    recall  f1-score   support\n",
            "\n",
            "           0       1.00      1.00      1.00     29844\n",
            "           1       0.89      0.83      0.86       156\n",
            "\n",
            "    accuracy                           1.00     30000\n",
            "   macro avg       0.94      0.91      0.93     30000\n",
            "weighted avg       1.00      1.00      1.00     30000\n",
            "\n",
            "ROC AUC Score: 0.9958532230848275\n",
            "\n"
          ]
        }
      ]
    },
    {
      "cell_type": "code",
      "source": [],
      "metadata": {
        "id": "S-Ek-qW2qkCj"
      },
      "execution_count": null,
      "outputs": []
    }
  ]
}